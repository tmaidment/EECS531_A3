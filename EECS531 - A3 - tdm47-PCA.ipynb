{
 "cells": [
  {
   "cell_type": "code",
   "execution_count": 1,
   "metadata": {},
   "outputs": [
    {
     "name": "stderr",
     "output_type": "stream",
     "text": [
      "/usr/local/lib/python3.6/site-packages/h5py/__init__.py:36: FutureWarning: Conversion of the second argument of issubdtype from `float` to `np.floating` is deprecated. In future, it will be treated as `np.float64 == np.dtype(float).type`.\n",
      "  from ._conv import register_converters as _register_converters\n",
      "Using TensorFlow backend.\n"
     ]
    }
   ],
   "source": [
    "%matplotlib inline\n",
    "import keras\n",
    "from keras.models import Sequential\n",
    "from keras.layers import Dense, Flatten, Conv2D, MaxPooling1D\n",
    "from sklearn.decomposition import PCA\n",
    "import numpy as np\n",
    "from matplotlib import pyplot as plt"
   ]
  },
  {
   "cell_type": "code",
   "execution_count": 2,
   "metadata": {},
   "outputs": [],
   "source": [
    "from keras.datasets import mnist\n",
    "\n",
    "# download data from internet (only the first time) and split it into training and testing set\n",
    "(imgTrain, labelTrain), (imgTest, labelTest) = mnist.load_data()"
   ]
  },
  {
   "cell_type": "code",
   "execution_count": 3,
   "metadata": {},
   "outputs": [
    {
     "name": "stdout",
     "output_type": "stream",
     "text": [
      "Training set in shape of  (60000, 28, 28, 1)  with element type  <class 'float'>\n",
      "Testing set in shape of   (10000, 28, 28, 1)  with element type  <class 'float'>\n"
     ]
    }
   ],
   "source": [
    "from keras import backend as K\n",
    "\n",
    "imgRows, imgCols = 28, 28 # size of source image\n",
    "\n",
    "# reshape images in training and testing set into fake 3D\n",
    "if K.image_data_format() == 'channels_first':\n",
    "    imgTrain = imgTrain.reshape(imgTrain.shape[0], 1, imgRows, imgCols)\n",
    "    imgTest  = imgTest.reshape(imgTest.shape[0], 1, imgRows, imgCols)\n",
    "    smpSize  = (1, imgRows, imgCols)\n",
    "else:\n",
    "    imgTrain = imgTrain.reshape(imgTrain.shape[0], imgRows, imgCols, 1)\n",
    "    imgTest  = imgTest.reshape(imgTest.shape[0], imgRows, imgCols, 1)\n",
    "    smpSize  = (imgRows, imgCols, 1)\n",
    "\n",
    "# convert pixels to floats and map them into range of [0,1]\n",
    "imgTrain = imgTrain.astype('float') / 255\n",
    "imgTest  = imgTest.astype('float') / 255\n",
    "\n",
    "# show shape and type of our datasets\n",
    "print('Training set in shape of ', imgTrain.shape, ' with element type ', type(imgTrain.item(0)))\n",
    "print('Testing set in shape of  ', imgTest.shape, ' with element type ', type(imgTrain.item(0)))"
   ]
  },
  {
   "cell_type": "code",
   "execution_count": 4,
   "metadata": {},
   "outputs": [],
   "source": [
    "ncat = 10 # number of categories in our problem\n",
    "\n",
    "# convert labels to one-hot vectors\n",
    "onehotTrain = keras.utils.to_categorical(labelTrain, ncat)\n",
    "onehotTest  = keras.utils.to_categorical(labelTest, ncat)"
   ]
  },
  {
   "cell_type": "code",
   "execution_count": 5,
   "metadata": {},
   "outputs": [],
   "source": [
    "# claim a sequential model\n",
    "model = Sequential()\n",
    "\n",
    "# add first layer as convolution transformation with 32 filters of size [3, 3]\n",
    "# - 'activation' is the non-linear tranform used in neural network, a common one is 'sigmoid'\n",
    "# - for the first layer, you also need to claim size of input samples\n",
    "# add max-pooling layer\n",
    "#model.add(MaxPooling2D(pool_size=(2, 2)))\n",
    "# add flatten layer to reshape data to fit for linear transform\n",
    "# linear transofrm with activation of softmax\n",
    "model.add(Dense(256, input_shape=(784,)))\n",
    "model.add(Dense(256, activation='relu'))\n",
    "model.add(Dense(128, activation='relu'))\n",
    "model.add(Dense(ncat, activation='softmax'))"
   ]
  },
  {
   "cell_type": "code",
   "execution_count": 6,
   "metadata": {},
   "outputs": [],
   "source": [
    "# compile the model\n",
    "model.compile(loss=keras.losses.categorical_crossentropy,\n",
    "              optimizer=keras.optimizers.Adadelta(),\n",
    "              metrics=['accuracy'])"
   ]
  },
  {
   "cell_type": "code",
   "execution_count": 7,
   "metadata": {},
   "outputs": [
    {
     "name": "stdout",
     "output_type": "stream",
     "text": [
      "Number of images: 60000 | Vector Size: 784\n"
     ]
    }
   ],
   "source": [
    "n, h, w, channel = imgTrain.shape\n",
    "X = np.reshape(imgTrain,(n, h*w*channel))\n",
    "print(\"Number of images:\", X.shape[0], \"| Vector Size:\", X.shape[1])"
   ]
  },
  {
   "cell_type": "code",
   "execution_count": 8,
   "metadata": {},
   "outputs": [],
   "source": [
    "pca = PCA() \n",
    "imgTrain = pca.fit_transform(X)\n",
    "#trainSet = np.reshape(X_transformed,(n,h,w,channel))"
   ]
  },
  {
   "cell_type": "code",
   "execution_count": 9,
   "metadata": {},
   "outputs": [
    {
     "name": "stdout",
     "output_type": "stream",
     "text": [
      "Number of images: 10000 | Vector Size: 784\n"
     ]
    }
   ],
   "source": [
    "n_test = imgTest.shape[0]\n",
    "X_test = np.reshape(imgTest,(n_test, h*w*channel))\n",
    "print(\"Number of images:\", X_test.shape[0], \"| Vector Size:\", X_test.shape[1])"
   ]
  },
  {
   "cell_type": "code",
   "execution_count": 10,
   "metadata": {},
   "outputs": [],
   "source": [
    "imgTest = pca.transform(X_test)\n",
    "#trainSet = np.reshape(X_transformed_test,(n_test,h,w,channel))"
   ]
  },
  {
   "cell_type": "code",
   "execution_count": 11,
   "metadata": {},
   "outputs": [
    {
     "name": "stdout",
     "output_type": "stream",
     "text": [
      "Train on 60000 samples, validate on 10000 samples\n",
      "Epoch 1/3\n",
      "60000/60000 [==============================] - 5s 86us/step - loss: 0.2367 - acc: 0.9318 - val_loss: 0.1145 - val_acc: 0.9650\n",
      "Epoch 2/3\n",
      "60000/60000 [==============================] - 5s 75us/step - loss: 0.0870 - acc: 0.9737 - val_loss: 0.0844 - val_acc: 0.9744\n",
      "Epoch 3/3\n",
      "60000/60000 [==============================] - 5s 84us/step - loss: 0.0550 - acc: 0.9830 - val_loss: 0.0851 - val_acc: 0.9729\n"
     ]
    },
    {
     "data": {
      "text/plain": [
       "<keras.callbacks.History at 0x113f84e80>"
      ]
     },
     "execution_count": 11,
     "metadata": {},
     "output_type": "execute_result"
    }
   ],
   "source": [
    "model.fit(imgTrain, onehotTrain, validation_data=(imgTest, onehotTest), batch_size=128, epochs=3, verbose=1)"
   ]
  },
  {
   "cell_type": "code",
   "execution_count": 12,
   "metadata": {},
   "outputs": [
    {
     "name": "stdout",
     "output_type": "stream",
     "text": [
      "Test loss     : 0.0850657800968038\n",
      "Test accuracy : 0.9729\n"
     ]
    }
   ],
   "source": [
    "score = model.evaluate(imgTest, onehotTest, verbose=0)\n",
    "print('Test loss     :', score[0])\n",
    "print('Test accuracy :', score[1])"
   ]
  }
 ],
 "metadata": {
  "kernelspec": {
   "display_name": "Python 3",
   "language": "python",
   "name": "python3"
  },
  "language_info": {
   "codemirror_mode": {
    "name": "ipython",
    "version": 3
   },
   "file_extension": ".py",
   "mimetype": "text/x-python",
   "name": "python",
   "nbconvert_exporter": "python",
   "pygments_lexer": "ipython3",
   "version": "3.6.4"
  }
 },
 "nbformat": 4,
 "nbformat_minor": 2
}
