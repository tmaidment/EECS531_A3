{
 "cells": [
  {
   "cell_type": "markdown",
   "metadata": {},
   "source": [
    "# EECS531 - A3\n",
    "## Tristan Maidment (tdm47)\n",
    "\n",
    "#### Goal\n",
    "The goal of this assignment is to compare the performance of network depth to verification set performance.  For this experiment, we will be comparing the a \"shallow\" or standard CNN, with one just convolutional and output layer to a deep CNN.\n",
    "\n",
    "In A2, we learned about PCA as a powerful method for resembling images.  The last exercise included an implementation of the technique, and I will attempt to compare it's performance in comparison to CNNs."
   ]
  },
  {
   "cell_type": "code",
   "execution_count": 1,
   "metadata": {},
   "outputs": [
    {
     "name": "stderr",
     "output_type": "stream",
     "text": [
      "/usr/local/lib/python3.6/site-packages/h5py/__init__.py:36: FutureWarning: Conversion of the second argument of issubdtype from `float` to `np.floating` is deprecated. In future, it will be treated as `np.float64 == np.dtype(float).type`.\n",
      "  from ._conv import register_converters as _register_converters\n",
      "Using TensorFlow backend.\n"
     ]
    }
   ],
   "source": [
    "%matplotlib inline\n",
    "import keras\n",
    "from keras.models import Sequential\n",
    "from keras.layers import Dense, Flatten, Conv2D, MaxPooling2D, Dropout\n",
    "from sklearn.decomposition import PCA\n",
    "import numpy as np\n",
    "from matplotlib import pyplot as plt"
   ]
  },
  {
   "cell_type": "markdown",
   "metadata": {},
   "source": [
    "### Implementation\n",
    "For this project, we will be using the popular MNIST dataset."
   ]
  },
  {
   "cell_type": "code",
   "execution_count": 2,
   "metadata": {},
   "outputs": [],
   "source": [
    "from keras.datasets import mnist\n",
    "\n",
    "epochs = 15\n",
    "simple_score, deep_score, pca_score = np.zeros(epochs), np.zeros(epochs), np.zeros(epochs)\n",
    "\n",
    "(imgTrain, labelTrain), (imgTest, labelTest) = mnist.load_data()"
   ]
  },
  {
   "cell_type": "code",
   "execution_count": 3,
   "metadata": {},
   "outputs": [
    {
     "name": "stdout",
     "output_type": "stream",
     "text": [
      "Training set in shape of  (60000, 28, 28, 1)  with element type  <class 'float'>\n",
      "Testing set in shape of   (10000, 28, 28, 1)  with element type  <class 'float'>\n"
     ]
    }
   ],
   "source": [
    "from keras import backend as K\n",
    "\n",
    "imgRows, imgCols = 28, 28\n",
    "\n",
    "if K.image_data_format() == 'channels_first':\n",
    "    imgTrain = imgTrain.reshape(imgTrain.shape[0], 1, imgRows, imgCols)\n",
    "    imgTest  = imgTest.reshape(imgTest.shape[0], 1, imgRows, imgCols)\n",
    "    smpSize  = (1, imgRows, imgCols)\n",
    "else:\n",
    "    imgTrain = imgTrain.reshape(imgTrain.shape[0], imgRows, imgCols, 1)\n",
    "    imgTest  = imgTest.reshape(imgTest.shape[0], imgRows, imgCols, 1)\n",
    "    smpSize  = (imgRows, imgCols, 1)\n",
    "\n",
    "imgTrain = imgTrain.astype('float') / 255\n",
    "imgTest  = imgTest.astype('float') / 255\n",
    "\n",
    "print('Training set in shape of ', imgTrain.shape, ' with element type ', type(imgTrain.item(0)))\n",
    "print('Testing set in shape of  ', imgTest.shape, ' with element type ', type(imgTrain.item(0)))"
   ]
  },
  {
   "cell_type": "code",
   "execution_count": 4,
   "metadata": {},
   "outputs": [],
   "source": [
    "ncat = 10 \n",
    "onehotTrain = keras.utils.to_categorical(labelTrain, ncat)\n",
    "onehotTest  = keras.utils.to_categorical(labelTest, ncat)"
   ]
  },
  {
   "cell_type": "markdown",
   "metadata": {},
   "source": [
    "#### Simple CNN\n",
    "The first model that we will be testing is a simple CNN that uses a single convolutional layer, pooling layer, and dense layer.  For the models being tested, we will plot the validation set percentage for each epoch."
   ]
  },
  {
   "cell_type": "code",
   "execution_count": 5,
   "metadata": {},
   "outputs": [],
   "source": [
    "model = Sequential()\n",
    "\n",
    "model.add(Conv2D(32, kernel_size=(4, 4),\n",
    "                 activation='relu',\n",
    "                 input_shape=smpSize))\n",
    "model.add(MaxPooling2D(pool_size=(2, 2)))\n",
    "model.add(Flatten())\n",
    "model.add(Dense(ncat, activation='softmax'))\n",
    "\n",
    "model.compile(loss=keras.losses.categorical_crossentropy,\n",
    "              optimizer=keras.optimizers.Adadelta(),\n",
    "              metrics=['accuracy'])"
   ]
  },
  {
   "cell_type": "code",
   "execution_count": 6,
   "metadata": {},
   "outputs": [
    {
     "name": "stdout",
     "output_type": "stream",
     "text": [
      "Train on 60000 samples, validate on 10000 samples\n",
      "Epoch 1/1\n",
      "60000/60000 [==============================] - 21s 346us/step - loss: 0.3081 - acc: 0.9120 - val_loss: 0.1319 - val_acc: 0.9628\n",
      "Train on 60000 samples, validate on 10000 samples\n",
      "Epoch 1/1\n",
      "60000/60000 [==============================] - 20s 339us/step - loss: 0.1074 - acc: 0.9703 - val_loss: 0.0783 - val_acc: 0.9771\n",
      "Train on 60000 samples, validate on 10000 samples\n",
      "Epoch 1/1\n",
      "60000/60000 [==============================] - 22s 363us/step - loss: 0.0770 - acc: 0.9786 - val_loss: 0.0625 - val_acc: 0.9808\n",
      "Train on 60000 samples, validate on 10000 samples\n",
      "Epoch 1/1\n",
      "60000/60000 [==============================] - 19s 325us/step - loss: 0.0637 - acc: 0.9812 - val_loss: 0.0547 - val_acc: 0.9825\n",
      "Train on 60000 samples, validate on 10000 samples\n",
      "Epoch 1/1\n",
      "60000/60000 [==============================] - 22s 368us/step - loss: 0.0557 - acc: 0.9839 - val_loss: 0.0513 - val_acc: 0.9842\n",
      "Train on 60000 samples, validate on 10000 samples\n",
      "Epoch 1/1\n",
      "60000/60000 [==============================] - 23s 378us/step - loss: 0.0497 - acc: 0.9855 - val_loss: 0.0506 - val_acc: 0.9839\n",
      "Train on 60000 samples, validate on 10000 samples\n",
      "Epoch 1/1\n",
      "60000/60000 [==============================] - 20s 339us/step - loss: 0.0460 - acc: 0.9867 - val_loss: 0.0450 - val_acc: 0.9848\n",
      "Train on 60000 samples, validate on 10000 samples\n",
      "Epoch 1/1\n",
      "60000/60000 [==============================] - 23s 376us/step - loss: 0.0421 - acc: 0.9880 - val_loss: 0.0433 - val_acc: 0.9851\n",
      "Train on 60000 samples, validate on 10000 samples\n",
      "Epoch 1/1\n",
      "60000/60000 [==============================] - 21s 345us/step - loss: 0.0392 - acc: 0.9886 - val_loss: 0.0428 - val_acc: 0.9861\n",
      "Train on 60000 samples, validate on 10000 samples\n",
      "Epoch 1/1\n",
      "60000/60000 [==============================] - 19s 322us/step - loss: 0.0364 - acc: 0.9901 - val_loss: 0.0480 - val_acc: 0.9843\n",
      "Train on 60000 samples, validate on 10000 samples\n",
      "Epoch 1/1\n",
      "60000/60000 [==============================] - 19s 320us/step - loss: 0.0339 - acc: 0.9904 - val_loss: 0.0415 - val_acc: 0.9867\n",
      "Train on 60000 samples, validate on 10000 samples\n",
      "Epoch 1/1\n",
      "60000/60000 [==============================] - 21s 345us/step - loss: 0.0321 - acc: 0.9910 - val_loss: 0.0446 - val_acc: 0.9858\n",
      "Train on 60000 samples, validate on 10000 samples\n",
      "Epoch 1/1\n",
      "60000/60000 [==============================] - 21s 345us/step - loss: 0.0304 - acc: 0.9914 - val_loss: 0.0417 - val_acc: 0.9866\n",
      "Train on 60000 samples, validate on 10000 samples\n",
      "Epoch 1/1\n",
      "60000/60000 [==============================] - 21s 353us/step - loss: 0.0285 - acc: 0.9920 - val_loss: 0.0401 - val_acc: 0.9868\n",
      "Train on 60000 samples, validate on 10000 samples\n",
      "Epoch 1/1\n",
      "60000/60000 [==============================] - 21s 342us/step - loss: 0.0269 - acc: 0.9925 - val_loss: 0.0404 - val_acc: 0.9874\n"
     ]
    }
   ],
   "source": [
    "for i in range(epochs):\n",
    "    model.fit(imgTrain, onehotTrain, validation_data=(imgTest, onehotTest), batch_size=128, epochs=1, verbose=1)\n",
    "    score = model.evaluate(imgTest, onehotTest, verbose=0)\n",
    "    simple_score[i] = score[1]"
   ]
  },
  {
   "cell_type": "markdown",
   "metadata": {},
   "source": [
    "#### Deep CNN\n",
    "This CNN is resembles a more traditional approach to a deep learning CNN.  It consists of two convolutional layers, a max pooling layer, two more convolutional layers, a second max pooling layer, then two dense layers.  The convolutional layers consist of kernels of both increaseing amount and size.  The purpose of this identify smaller features first, with the small kernels.  These small features are then classified using the larger kernels, which should capture some of the bigger features of the image.  I believe that this should reduce the variance that results from the various ways which people write digits."
   ]
  },
  {
   "cell_type": "code",
   "execution_count": 7,
   "metadata": {},
   "outputs": [],
   "source": [
    "model2 = Sequential()\n",
    "\n",
    "model2.add(Conv2D(4, kernel_size=(2, 2),\n",
    "                 activation='relu',\n",
    "                 input_shape=smpSize))\n",
    "model2.add(Conv2D(8, kernel_size=(2, 2),\n",
    "                 activation='relu',\n",
    "                 input_shape=smpSize))\n",
    "model2.add(MaxPooling2D(pool_size=(2, 2)))\n",
    "model2.add(Conv2D(16, kernel_size=(3, 3),\n",
    "                 activation='relu',\n",
    "                 input_shape=smpSize))\n",
    "model2.add(Conv2D(32, kernel_size=(4, 4),\n",
    "                 activation='relu',\n",
    "                 input_shape=smpSize))\n",
    "model2.add(MaxPooling2D(pool_size=(2, 2)))\n",
    "model2.add(Flatten())\n",
    "model2.add(Dense(256, activation='sigmoid'))\n",
    "model2.add(Dense(ncat, activation='softmax'))\n",
    "\n",
    "model2.compile(loss=keras.losses.categorical_crossentropy,\n",
    "              optimizer=keras.optimizers.Adadelta(),\n",
    "              metrics=['accuracy'])"
   ]
  },
  {
   "cell_type": "code",
   "execution_count": 8,
   "metadata": {},
   "outputs": [
    {
     "name": "stdout",
     "output_type": "stream",
     "text": [
      "Train on 60000 samples, validate on 10000 samples\n",
      "Epoch 1/1\n",
      "60000/60000 [==============================] - 27s 455us/step - loss: 0.2858 - acc: 0.9120 - val_loss: 0.0841 - val_acc: 0.9738\n",
      "Train on 60000 samples, validate on 10000 samples\n",
      "Epoch 1/1\n",
      "60000/60000 [==============================] - 30s 492us/step - loss: 0.0715 - acc: 0.9787 - val_loss: 0.0539 - val_acc: 0.9836\n",
      "Train on 60000 samples, validate on 10000 samples\n",
      "Epoch 1/1\n",
      "60000/60000 [==============================] - 25s 410us/step - loss: 0.0501 - acc: 0.9846 - val_loss: 0.0432 - val_acc: 0.9864\n",
      "Train on 60000 samples, validate on 10000 samples\n",
      "Epoch 1/1\n",
      "60000/60000 [==============================] - 27s 451us/step - loss: 0.0383 - acc: 0.9887 - val_loss: 0.0377 - val_acc: 0.9884\n",
      "Train on 60000 samples, validate on 10000 samples\n",
      "Epoch 1/1\n",
      "60000/60000 [==============================] - 31s 511us/step - loss: 0.0298 - acc: 0.9914 - val_loss: 0.0369 - val_acc: 0.9879\n",
      "Train on 60000 samples, validate on 10000 samples\n",
      "Epoch 1/1\n",
      "60000/60000 [==============================] - 26s 430us/step - loss: 0.0247 - acc: 0.9927 - val_loss: 0.0346 - val_acc: 0.9889\n",
      "Train on 60000 samples, validate on 10000 samples\n",
      "Epoch 1/1\n",
      "60000/60000 [==============================] - 31s 517us/step - loss: 0.0195 - acc: 0.9946 - val_loss: 0.0343 - val_acc: 0.9891\n",
      "Train on 60000 samples, validate on 10000 samples\n",
      "Epoch 1/1\n",
      "60000/60000 [==============================] - 28s 463us/step - loss: 0.0158 - acc: 0.9955 - val_loss: 0.0319 - val_acc: 0.9892\n",
      "Train on 60000 samples, validate on 10000 samples\n",
      "Epoch 1/1\n",
      "60000/60000 [==============================] - 25s 417us/step - loss: 0.0126 - acc: 0.9968 - val_loss: 0.0318 - val_acc: 0.9899\n",
      "Train on 60000 samples, validate on 10000 samples\n",
      "Epoch 1/1\n",
      "60000/60000 [==============================] - 27s 443us/step - loss: 0.0103 - acc: 0.9971 - val_loss: 0.0320 - val_acc: 0.9898\n",
      "Train on 60000 samples, validate on 10000 samples\n",
      "Epoch 1/1\n",
      "60000/60000 [==============================] - 28s 472us/step - loss: 0.0081 - acc: 0.9981 - val_loss: 0.0315 - val_acc: 0.9902\n",
      "Train on 60000 samples, validate on 10000 samples\n",
      "Epoch 1/1\n",
      "60000/60000 [==============================] - 26s 437us/step - loss: 0.0066 - acc: 0.9985 - val_loss: 0.0308 - val_acc: 0.9899\n",
      "Train on 60000 samples, validate on 10000 samples\n",
      "Epoch 1/1\n",
      "60000/60000 [==============================] - 31s 524us/step - loss: 0.0053 - acc: 0.9990 - val_loss: 0.0347 - val_acc: 0.9898\n",
      "Train on 60000 samples, validate on 10000 samples\n",
      "Epoch 1/1\n",
      "60000/60000 [==============================] - 26s 432us/step - loss: 0.0038 - acc: 0.9994 - val_loss: 0.0294 - val_acc: 0.9909\n",
      "Train on 60000 samples, validate on 10000 samples\n",
      "Epoch 1/1\n",
      "60000/60000 [==============================] - 30s 501us/step - loss: 0.0032 - acc: 0.9994 - val_loss: 0.0314 - val_acc: 0.9911\n"
     ]
    }
   ],
   "source": [
    "for i in range(epochs):\n",
    "    model2.fit(imgTrain, onehotTrain, validation_data=(imgTest, onehotTest), batch_size=128, epochs=1, verbose=1)\n",
    "    score = model2.evaluate(imgTest, onehotTest, verbose=0)\n",
    "    deep_score[i] = score[1]"
   ]
  },
  {
   "cell_type": "markdown",
   "metadata": {},
   "source": [
    "#### PCA\n",
    "For the purpose of this problem, we will not be using a CNN, but rather a more traditional neural network.  The reason for this choice is due to the fact that data representation of PCA works very well as a vector input to the input layer.  To make this example work, we will fit and transform the test set.  Using the test set's fit, the verification set is transformed as well.  This means that the verification set will be represented using the principle parts of the training set.  Although the representation of the verification space is not perfect, it should, in theory, be a viable way to represent the space."
   ]
  },
  {
   "cell_type": "code",
   "execution_count": 9,
   "metadata": {},
   "outputs": [],
   "source": [
    "model3 = Sequential()\n",
    "\n",
    "model3.add(Dense(400, input_shape=(784,)))\n",
    "model3.add(Dense(300, activation='sigmoid'))\n",
    "model3.add(Dense(200, activation='sigmoid'))\n",
    "model3.add(Dense(100, activation='sigmoid'))\n",
    "model3.add(Dense(ncat, activation='softmax'))\n",
    "\n",
    "model3.compile(loss=keras.losses.categorical_crossentropy,\n",
    "              optimizer=keras.optimizers.Adadelta(),\n",
    "              metrics=['accuracy'])"
   ]
  },
  {
   "cell_type": "code",
   "execution_count": 10,
   "metadata": {},
   "outputs": [],
   "source": [
    "n, h, w, channel = imgTrain.shape\n",
    "X = np.reshape(imgTrain,(n, h*w*channel))\n",
    "pca = PCA() \n",
    "imgTrain_pca = pca.fit_transform(X)\n",
    "n_test = imgTest.shape[0]\n",
    "X_test = np.reshape(imgTest,(n_test, h*w*channel))\n",
    "imgTest_pca = pca.transform(X_test)"
   ]
  },
  {
   "cell_type": "code",
   "execution_count": 11,
   "metadata": {},
   "outputs": [
    {
     "name": "stdout",
     "output_type": "stream",
     "text": [
      "Train on 60000 samples, validate on 10000 samples\n",
      "Epoch 1/1\n",
      "60000/60000 [==============================] - 6s 106us/step - loss: 0.8975 - acc: 0.7242 - val_loss: 0.3694 - val_acc: 0.8907\n",
      "Train on 60000 samples, validate on 10000 samples\n",
      "Epoch 1/1\n",
      "60000/60000 [==============================] - 6s 99us/step - loss: 0.3210 - acc: 0.9059 - val_loss: 0.2839 - val_acc: 0.9176\n",
      "Train on 60000 samples, validate on 10000 samples\n",
      "Epoch 1/1\n",
      "60000/60000 [==============================] - 6s 104us/step - loss: 0.2499 - acc: 0.9252 - val_loss: 0.2324 - val_acc: 0.9310\n",
      "Train on 60000 samples, validate on 10000 samples\n",
      "Epoch 1/1\n",
      "60000/60000 [==============================] - 6s 100us/step - loss: 0.2016 - acc: 0.9396 - val_loss: 0.1899 - val_acc: 0.9440\n",
      "Train on 60000 samples, validate on 10000 samples\n",
      "Epoch 1/1\n",
      "60000/60000 [==============================] - 6s 99us/step - loss: 0.1645 - acc: 0.9510 - val_loss: 0.1643 - val_acc: 0.9502\n",
      "Train on 60000 samples, validate on 10000 samples\n",
      "Epoch 1/1\n",
      "60000/60000 [==============================] - 7s 117us/step - loss: 0.1362 - acc: 0.9596 - val_loss: 0.1426 - val_acc: 0.9568\n",
      "Train on 60000 samples, validate on 10000 samples\n",
      "Epoch 1/1\n",
      "60000/60000 [==============================] - 7s 114us/step - loss: 0.1136 - acc: 0.9661 - val_loss: 0.1302 - val_acc: 0.9623\n",
      "Train on 60000 samples, validate on 10000 samples\n",
      "Epoch 1/1\n",
      "60000/60000 [==============================] - 7s 110us/step - loss: 0.0959 - acc: 0.9720 - val_loss: 0.1151 - val_acc: 0.9634\n",
      "Train on 60000 samples, validate on 10000 samples\n",
      "Epoch 1/1\n",
      "60000/60000 [==============================] - 7s 108us/step - loss: 0.0813 - acc: 0.9761 - val_loss: 0.1082 - val_acc: 0.9667\n",
      "Train on 60000 samples, validate on 10000 samples\n",
      "Epoch 1/1\n",
      "60000/60000 [==============================] - 7s 109us/step - loss: 0.0687 - acc: 0.9798 - val_loss: 0.1102 - val_acc: 0.9668\n",
      "Train on 60000 samples, validate on 10000 samples\n",
      "Epoch 1/1\n",
      "60000/60000 [==============================] - 7s 109us/step - loss: 0.0576 - acc: 0.9830 - val_loss: 0.1028 - val_acc: 0.9666\n",
      "Train on 60000 samples, validate on 10000 samples\n",
      "Epoch 1/1\n",
      "60000/60000 [==============================] - 7s 110us/step - loss: 0.0479 - acc: 0.9862 - val_loss: 0.0891 - val_acc: 0.9729\n",
      "Train on 60000 samples, validate on 10000 samples\n",
      "Epoch 1/1\n",
      "60000/60000 [==============================] - 7s 111us/step - loss: 0.0393 - acc: 0.9888 - val_loss: 0.0956 - val_acc: 0.9701\n",
      "Train on 60000 samples, validate on 10000 samples\n",
      "Epoch 1/1\n",
      "60000/60000 [==============================] - 7s 110us/step - loss: 0.0330 - acc: 0.9910 - val_loss: 0.0892 - val_acc: 0.9728\n",
      "Train on 60000 samples, validate on 10000 samples\n",
      "Epoch 1/1\n",
      "60000/60000 [==============================] - 7s 112us/step - loss: 0.0268 - acc: 0.9926 - val_loss: 0.0830 - val_acc: 0.9753\n"
     ]
    }
   ],
   "source": [
    "for i in range(epochs):\n",
    "    model3.fit(imgTrain_pca, onehotTrain, validation_data=(imgTest_pca, onehotTest), batch_size=128, epochs=1, verbose=1)\n",
    "    score = model3.evaluate(imgTest_pca, onehotTest, verbose=0)\n",
    "    pca_score[i] = score[1]"
   ]
  },
  {
   "cell_type": "markdown",
   "metadata": {},
   "source": [
    "#### Conclusion\n",
    "By plotting the change in performance of the three models, over the span of 15 epochs, we can see the ability for each method to classify the verification set.  As we can see, the convolution networks have a very high rate of success in the validation within the first few epochs.  PCA, however, does not benefit in this way.  However, the rate at which it learns to classify the verification set increase much faster.  But fails to reach the starting rate of the deep CNN after 15 epochs.  \n",
    "\n",
    "One thing to note is that the time per epoch for PCA on my machine is only 6-7 seconds.  The time required per epoch for the Deep CNN is closer to 30 seconds.  This indicates that we can perform as many has 5 times the amount of epochs in the same amount of time with the PCA method.  Although this will initially provide a classification rate for the verification set, it will start to overtrain quickly. Fortunately, there are various methods, such as dropout layers, that prevent this from occuring.\n",
    "\n",
    "Overall, there are nearly infinite ways to formulate a model for any given classification problem.  In this example, we tested three fairly different methods, all of which provided very good performance on the verification set."
   ]
  },
  {
   "cell_type": "code",
   "execution_count": 12,
   "metadata": {},
   "outputs": [
    {
     "data": {
      "image/png": "[encoded data removed]",
      "text/plain": [
       "<matplotlib.figure.Figure at 0x12560fd30>"
      ]
     },
     "metadata": {},
     "output_type": "display_data"
    }
   ],
   "source": [
    "fig = plt.figure()\n",
    "ax1 = fig.add_subplot(111)\n",
    "ax1.scatter(range(epochs), simple_score, s=10, c='r', label='simple')\n",
    "ax1.scatter(range(epochs), deep_score, s=10, c='g', label='deep')\n",
    "ax1.scatter(range(epochs), pca_score, s=10, c='b', label='pca')\n",
    "ax1.plot(range(epochs), simple_score, c='r', label='simple')\n",
    "ax1.plot(range(epochs), deep_score, c='g', label='deep')\n",
    "ax1.plot(range(epochs), pca_score, c='b', label='pca')\n",
    "plt.legend(loc='lower right');\n",
    "plt.show()"
   ]
  },
  {
   "cell_type": "code",
   "execution_count": null,
   "metadata": {},
   "outputs": [],
   "source": []
  }
 ],
 "metadata": {
  "kernelspec": {
   "display_name": "Python 3",
   "language": "python",
   "name": "python3"
  },
  "language_info": {
   "codemirror_mode": {
    "name": "ipython",
    "version": 3
   },
   "file_extension": ".py",
   "mimetype": "text/x-python",
   "name": "python",
   "nbconvert_exporter": "python",
   "pygments_lexer": "ipython3",
   "version": "3.6.5"
  }
 },
 "nbformat": 4,
 "nbformat_minor": 2
}
